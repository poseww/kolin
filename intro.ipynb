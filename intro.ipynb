{
 "cells": [
  {
   "cell_type": "markdown",
   "id": "01d267ea",
   "metadata": {},
   "source": [
    "# Pengenalan python dengan jupyter"
   ]
  },
  {
   "cell_type": "markdown",
   "id": "92947c9d",
   "metadata": {},
   "source": [
    "# Hello world ! dengan python"
   ]
  },
  {
   "cell_type": "raw",
   "id": "c99cb439",
   "metadata": {},
   "source": [
    "dengan menggunakan function print(), String Hello, world! dicetak di dalam console."
   ]
  },
  {
   "cell_type": "markdown",
   "id": "2e4593e2",
   "metadata": {},
   "source": [
    "https://en.wikibooks.org/wiki/Non-Programmer%27s_Tutorial_for_Python_3/"
   ]
  },
  {
   "cell_type": "code",
   "execution_count": 1,
   "id": "b59f16ae",
   "metadata": {},
   "outputs": [
    {
     "name": "stdout",
     "output_type": "stream",
     "text": [
      "Hello, world!\n"
     ]
    }
   ],
   "source": [
    "print(\"Hello, world!\")"
   ]
  },
  {
   "cell_type": "code",
   "execution_count": 2,
   "id": "2544ddd6",
   "metadata": {},
   "outputs": [
    {
     "name": "stdout",
     "output_type": "stream",
     "text": [
      "Firstish Grade\n",
      "1 + 1 = 2\n",
      "2 + 4 = 6\n",
      "5 - 2 = 3\n",
      "\n",
      "Thirdish Grade\n",
      "243 - 23 = 220\n",
      "12 * 4 = 48\n",
      "12 / 3 = 4.0\n",
      "13 / 3 = 4 R 1\n",
      "\n",
      "Junior High\n",
      "123.56 - 62.12 = 61.440000000000005\n",
      "(4 + 3) * 2 = 14\n",
      "4 + 3 * 2 = 10\n",
      "3 ** 2 = 9\n"
     ]
    }
   ],
   "source": [
    "# This is not quite true outside of USA\n",
    "# and is based on my dim memories of my younger years\n",
    "print(\"Firstish Grade\")\n",
    "print(\"1 + 1 =\", 1 + 1)\n",
    "print(\"2 + 4 =\", 2 + 4)\n",
    "print(\"5 - 2 =\", 5 - 2)\n",
    "print()\n",
    "print(\"Thirdish Grade\")\n",
    "print(\"243 - 23 =\", 243 - 23)\n",
    "print(\"12 * 4 =\", 12 * 4)\n",
    "print(\"12 / 3 =\", 12 / 3)\n",
    "print(\"13 / 3 =\", 13 // 3, \"R\", 13 % 3)\n",
    "print()\n",
    "print(\"Junior High\")\n",
    "print(\"123.56 - 62.12 =\", 123.56 - 62.12)\n",
    "print(\"(4 + 3) * 2 =\", (4 + 3) * 2)\n",
    "print(\"4 + 3 * 2 =\", 4 + 3 * 2)\n",
    "print(\"3 ** 2 =\", 3 ** 2)"
   ]
  },
  {
   "cell_type": "code",
   "execution_count": 3,
   "id": "315d79cd",
   "metadata": {},
   "outputs": [
    {
     "name": "stdout",
     "output_type": "stream",
     "text": [
      "Halt!\n",
      "Who goes there? john\n",
      "You may pass, john\n"
     ]
    }
   ],
   "source": [
    "print(\"Halt!\")\n",
    "user_input = input(\"Who goes there? \")\n",
    "print(\"You may pass,\",  user_input)"
   ]
  },
  {
   "cell_type": "code",
   "execution_count": 4,
   "id": "a56c11e9",
   "metadata": {},
   "outputs": [
    {
     "name": "stdout",
     "output_type": "stream",
     "text": [
      "a + b is 555.4\n",
      "first_name is Bill\n",
      "Sorted Parts, After Midnight or Spam\n"
     ]
    }
   ],
   "source": [
    "a = 123.4\n",
    "b23 = 'Spam'\n",
    "first_name = \"Bill\"\n",
    "b = 432\n",
    "c = a + b\n",
    "print(\"a + b is\",c)\n",
    "print(\"first_name is\",first_name)\n",
    "print(\"Sorted Parts, After Midnight or\",b23)"
   ]
  },
  {
   "cell_type": "code",
   "execution_count": 5,
   "id": "f770ae5b",
   "metadata": {},
   "outputs": [
    {
     "name": "stdout",
     "output_type": "stream",
     "text": [
      "Input a rate and a distance\n",
      "Rate: 6\n",
      "Distance: 2\n",
      "Time: 0.3333333333333333\n"
     ]
    }
   ],
   "source": [
    "# This program calculates rate and distance problems\n",
    "print(\"Input a rate and a distance\")\n",
    "rate = float(input(\"Rate: \"))\n",
    "distance = float(input(\"Distance: \"))\n",
    "time=(distance/ rate)\n",
    "print(\"Time:\", time)"
   ]
  },
  {
   "cell_type": "code",
   "execution_count": 6,
   "id": "1fd95a00",
   "metadata": {},
   "outputs": [
    {
     "name": "stdout",
     "output_type": "stream",
     "text": [
      "1 2 3 4 5 6 7 8 9 10 "
     ]
    }
   ],
   "source": [
    "a = 0            \n",
    "while a < 10:    \n",
    "    a = a + 1 \n",
    "    print(a, end=\" \") "
   ]
  },
  {
   "cell_type": "code",
   "execution_count": 7,
   "id": "a29ca176",
   "metadata": {},
   "outputs": [
    {
     "name": "stdout",
     "output_type": "stream",
     "text": [
      "Enter Numbers to add to the sum.\n",
      "Enter 0 to quit.\n",
      "Current Sum: 0\n",
      "Number? 2\n",
      "Current Sum: 2.0\n",
      "Number? 3\n",
      "Current Sum: 5.0\n",
      "Number? 5\n",
      "Current Sum: 10.0\n",
      "Number? 0\n",
      "Total Sum = 10.0\n"
     ]
    }
   ],
   "source": [
    "a = 1\n",
    "s = 0\n",
    "print('Enter Numbers to add to the sum.')\n",
    "print('Enter 0 to quit.')\n",
    "while a != 0:                           \n",
    "    print('Current Sum:', s)            \n",
    "    a = float(input('Number? '))        \n",
    "    s = s + a                            \n",
    "print('Total Sum =', s)"
   ]
  },
  {
   "cell_type": "code",
   "execution_count": 8,
   "id": "bb1b7a6f",
   "metadata": {},
   "outputs": [
    {
     "name": "stdout",
     "output_type": "stream",
     "text": [
      "Enter Numbers to add to the sum.\n",
      "Enter 0 to quit.\n",
      "Current Sum: 0\n",
      "Number? 23\n",
      "Current Sum: 23.0\n",
      "Number? 9\n",
      "Current Sum: 32.0\n",
      "Number? 0\n",
      "Total Sum = 32.0\n"
     ]
    }
   ],
   "source": [
    "a = 1\n",
    "s = 0\n",
    "print('Enter Numbers to add to the sum.')\n",
    "print('Enter 0 to quit.')\n",
    "while True:                           \n",
    "    print('Current Sum:', s)            \n",
    "    a = float(input('Number? '))        \n",
    "    s = s + a\n",
    "    if a == 0:\n",
    "        break\n",
    "print('Total Sum =', s)"
   ]
  },
  {
   "cell_type": "markdown",
   "id": "539918a3",
   "metadata": {},
   "source": [
    "# Decision"
   ]
  },
  {
   "cell_type": "code",
   "execution_count": 9,
   "id": "5d1ea88c",
   "metadata": {},
   "outputs": [
    {
     "name": "stdout",
     "output_type": "stream",
     "text": [
      "Number? 4\n",
      "The absolute value of 4 is 4\n"
     ]
    }
   ],
   "source": [
    "n = int(input(\"Number? \"))\n",
    "if n < 0:\n",
    "   print(\"The absolute value of\", n, \"is\", -n)\n",
    "else:\n",
    "   print(\"The absolute value of\", n, \"is\", n)"
   ]
  },
  {
   "cell_type": "code",
   "execution_count": 10,
   "id": "24d2530a",
   "metadata": {},
   "outputs": [
    {
     "name": "stdout",
     "output_type": "stream",
     "text": [
      "Guess the number!\n",
      "Is it... 3\n",
      "It's bigger...\n",
      "Is it... 1\n",
      "It's bigger...\n",
      "Is it... 9\n",
      "It's not so big.\n",
      "Is it... 0\n",
      "It's bigger...\n",
      "Is it... 3\n",
      "It's bigger...\n",
      "Is it... 5\n",
      "It's bigger...\n",
      "Is it... 7\n",
      "Hooray! You guessed it right!\n"
     ]
    }
   ],
   "source": [
    "number = 7\n",
    "guess = -1\n",
    "\n",
    "print(\"Guess the number!\")\n",
    "while guess != number:\n",
    "    guess = int(input(\"Is it... \"))\n",
    "\n",
    "    if guess == number:\n",
    "        print(\"Hooray! You guessed it right!\")\n",
    "    elif guess < number:\n",
    "        print(\"It's bigger...\")\n",
    "    elif guess > number:\n",
    "        print(\"It's not so big.\")"
   ]
  },
  {
   "cell_type": "code",
   "execution_count": 1,
   "id": "1631dd7a",
   "metadata": {},
   "outputs": [
    {
     "name": "stdout",
     "output_type": "stream",
     "text": [
      "Enter a number (or '0' to quit): 1\n",
      "Enter a number (or '0' to quit): -2\n",
      "Negative numbers are not allowed. Please try again.\n",
      "Enter a number (or '0' to quit): 3\n",
      "Enter a number (or '0' to quit): 7\n",
      "Enter a number (or '0' to quit): 0\n",
      "The average is: 3.6666666666666665\n"
     ]
    }
   ],
   "source": [
    "sum_of_numbers = 0\n",
    "counter = 0\n",
    "\n",
    "while True:\n",
    "    number = input(\"Enter a number (or '0' to quit): \")\n",
    "    if number.lower() == '0':\n",
    "        break\n",
    "    number = float(number)\n",
    "    \n",
    "    if number < 0:\n",
    "        print(\"Negative numbers are not allowed. Please try again.\")\n",
    "        continue\n",
    "\n",
    "    sum_of_numbers += number\n",
    "\n",
    "    counter += 1\n",
    "    \n",
    "if counter > 0:\n",
    "    average = sum_of_numbers / counter\n",
    "    print(\"The average is:\", average)\n",
    "else:\n",
    "    print(\"No valid numbers were entered.\")"
   ]
  },
  {
   "cell_type": "code",
   "execution_count": null,
   "id": "da05b452",
   "metadata": {},
   "outputs": [],
   "source": []
  }
 ],
 "metadata": {
  "kernelspec": {
   "display_name": "Python 3 (ipykernel)",
   "language": "python",
   "name": "python3"
  },
  "language_info": {
   "codemirror_mode": {
    "name": "ipython",
    "version": 3
   },
   "file_extension": ".py",
   "mimetype": "text/x-python",
   "name": "python",
   "nbconvert_exporter": "python",
   "pygments_lexer": "ipython3",
   "version": "3.11.4"
  }
 },
 "nbformat": 4,
 "nbformat_minor": 5
}
